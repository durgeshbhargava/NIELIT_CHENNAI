{
 "cells": [
  {
   "cell_type": "markdown",
   "id": "beb0b41f",
   "metadata": {},
   "source": [
    "#                                           ASSIGNMENT 1"
   ]
  },
  {
   "cell_type": "markdown",
   "id": "d42b34ba",
   "metadata": {},
   "source": [
    "### Q1] Suppose list1 is [2, 33, 222, 14, 25], What is list1[:-1] ?"
   ]
  },
  {
   "cell_type": "code",
   "execution_count": 1,
   "id": "aef4d9ca",
   "metadata": {},
   "outputs": [
    {
     "data": {
      "text/plain": [
       "[2, 33, 222, 14]"
      ]
     },
     "execution_count": 1,
     "metadata": {},
     "output_type": "execute_result"
    }
   ],
   "source": [
    "list1 =[2, 33, 222, 14, 25]\n",
    "list1[:-1]"
   ]
  },
  {
   "cell_type": "markdown",
   "id": "4c16289e",
   "metadata": {},
   "source": [
    "### 2]. What is the output when following code is executed ?\n",
    "### names =['Amir', 'Bear', 'Charlton', 'Daman']\n",
    "### print(names[-1][-1])\n",
    "\n",
    "### ANS :-"
   ]
  },
  {
   "cell_type": "code",
   "execution_count": 2,
   "id": "547dabbc",
   "metadata": {},
   "outputs": [
    {
     "name": "stdout",
     "output_type": "stream",
     "text": [
      "n\n"
     ]
    }
   ],
   "source": [
    "names =['Amir', 'Bear', 'Charlton', 'Daman']\n",
    "print(names[-1][-1])"
   ]
  },
  {
   "cell_type": "markdown",
   "id": "0882610d",
   "metadata": {},
   "source": [
    "### 3] What is the output when following code is executed ?\n",
    "### list1 =[1, 3]\n",
    "### list2 = list1\n",
    "### list1[0]=4\n",
    "### print(list2)\n",
    "\n",
    "### Ans:-"
   ]
  },
  {
   "cell_type": "code",
   "execution_count": 3,
   "id": "3b0d1a0d",
   "metadata": {},
   "outputs": [
    {
     "name": "stdout",
     "output_type": "stream",
     "text": [
      "[4, 3]\n"
     ]
    }
   ],
   "source": [
    "list1 =[1, 3]\n",
    "list2 = list1\n",
    "list1[0]=4\n",
    "print(list2)"
   ]
  },
  {
   "cell_type": "markdown",
   "id": "554a22f0",
   "metadata": {},
   "source": [
    "### 4]Which of the following is not a declaration of the dictionary?\n",
    "### a) {1: ‘A’, 2: ‘B’}\n",
    "### b) dict([[1,”A”],[2,”B”]])\n",
    "### c) {1,”A”,2”B”}\n",
    "### d) { }\n",
    "\n",
    "### Ans:- Options (b) and (c)"
   ]
  },
  {
   "cell_type": "markdown",
   "id": "8939f8f6",
   "metadata": {},
   "source": [
    "### 5 ]What is the output of the following code?\n",
    "### a={1:5,2:3,3:4}\n",
    "### a.pop(3)\n",
    "### print(a)"
   ]
  },
  {
   "cell_type": "code",
   "execution_count": 25,
   "id": "e2b923da",
   "metadata": {},
   "outputs": [
    {
     "name": "stdout",
     "output_type": "stream",
     "text": [
      "{1: 5, 2: 3}\n"
     ]
    }
   ],
   "source": [
    "a={1:5,2:3,3:4}\n",
    "a.pop(3)\n",
    "print(a)"
   ]
  },
  {
   "cell_type": "markdown",
   "id": "589e1941",
   "metadata": {},
   "source": [
    "### 6] What will be the output of the following Python code?\n",
    "### nums = set([1,1,2,3,3,3,4,4])\n",
    "### print(len(nums))"
   ]
  },
  {
   "cell_type": "code",
   "execution_count": 26,
   "id": "9682c8b9",
   "metadata": {},
   "outputs": [
    {
     "name": "stdout",
     "output_type": "stream",
     "text": [
      "4\n"
     ]
    }
   ],
   "source": [
    "nums = set([1,1,2,3,3,3,4,4])\n",
    "print(len(nums))"
   ]
  },
  {
   "cell_type": "markdown",
   "id": "b51aaee3",
   "metadata": {},
   "source": [
    "### 7]What will be the output of the following Python code?\n",
    "### a={1,2,3}\n",
    "### b=a\n",
    "### b.remove(3)\n",
    "### print(a)"
   ]
  },
  {
   "cell_type": "code",
   "execution_count": 27,
   "id": "61ecd518",
   "metadata": {},
   "outputs": [
    {
     "name": "stdout",
     "output_type": "stream",
     "text": [
      "{1, 2}\n"
     ]
    }
   ],
   "source": [
    "a={1,2,3}\n",
    "b=a\n",
    "b.remove(3)\n",
    "print(a)"
   ]
  },
  {
   "cell_type": "markdown",
   "id": "84746e0b",
   "metadata": {},
   "source": [
    "### 8]Is the following Python code valid?\n",
    "### a={3,4,{7,5}}\n",
    "### print(a[2][0])"
   ]
  },
  {
   "cell_type": "code",
   "execution_count": 29,
   "id": "44204330",
   "metadata": {},
   "outputs": [
    {
     "ename": "TypeError",
     "evalue": "unhashable type: 'set'",
     "output_type": "error",
     "traceback": [
      "\u001b[0;31m---------------------------------------------------------------------------\u001b[0m",
      "\u001b[0;31mTypeError\u001b[0m                                 Traceback (most recent call last)",
      "\u001b[0;32m<ipython-input-29-1c4fef8785c7>\u001b[0m in \u001b[0;36m<module>\u001b[0;34m\u001b[0m\n\u001b[0;32m----> 1\u001b[0;31m \u001b[0ma\u001b[0m\u001b[0;34m=\u001b[0m\u001b[0;34m{\u001b[0m\u001b[0;36m3\u001b[0m\u001b[0;34m,\u001b[0m\u001b[0;36m4\u001b[0m\u001b[0;34m,\u001b[0m\u001b[0;34m{\u001b[0m\u001b[0;36m7\u001b[0m\u001b[0;34m,\u001b[0m\u001b[0;36m5\u001b[0m\u001b[0;34m}\u001b[0m\u001b[0;34m}\u001b[0m\u001b[0;34m\u001b[0m\u001b[0;34m\u001b[0m\u001b[0m\n\u001b[0m\u001b[1;32m      2\u001b[0m \u001b[0mprint\u001b[0m\u001b[0;34m(\u001b[0m\u001b[0ma\u001b[0m\u001b[0;34m[\u001b[0m\u001b[0;36m2\u001b[0m\u001b[0;34m]\u001b[0m\u001b[0;34m[\u001b[0m\u001b[0;36m0\u001b[0m\u001b[0;34m]\u001b[0m\u001b[0;34m)\u001b[0m\u001b[0;34m\u001b[0m\u001b[0;34m\u001b[0m\u001b[0m\n",
      "\u001b[0;31mTypeError\u001b[0m: unhashable type: 'set'"
     ]
    }
   ],
   "source": [
    "a={3,4,{7,5}}\n",
    "print(a[2][0])"
   ]
  },
  {
   "cell_type": "markdown",
   "id": "77f377df",
   "metadata": {},
   "source": [
    "### 9]What will be the output of the following Python code?\n",
    "### a={4,5,6}\n",
    "### b={2,8,6}\n",
    "### print(a+b)"
   ]
  },
  {
   "cell_type": "code",
   "execution_count": 31,
   "id": "e09179e4",
   "metadata": {},
   "outputs": [
    {
     "ename": "TypeError",
     "evalue": "unsupported operand type(s) for +: 'set' and 'set'",
     "output_type": "error",
     "traceback": [
      "\u001b[0;31m---------------------------------------------------------------------------\u001b[0m",
      "\u001b[0;31mTypeError\u001b[0m                                 Traceback (most recent call last)",
      "\u001b[0;32m<ipython-input-31-fbaba673a84b>\u001b[0m in \u001b[0;36m<module>\u001b[0;34m\u001b[0m\n\u001b[1;32m      1\u001b[0m \u001b[0ma\u001b[0m\u001b[0;34m=\u001b[0m\u001b[0;34m{\u001b[0m\u001b[0;36m4\u001b[0m\u001b[0;34m,\u001b[0m\u001b[0;36m5\u001b[0m\u001b[0;34m,\u001b[0m\u001b[0;36m6\u001b[0m\u001b[0;34m}\u001b[0m\u001b[0;34m\u001b[0m\u001b[0;34m\u001b[0m\u001b[0m\n\u001b[1;32m      2\u001b[0m \u001b[0mb\u001b[0m\u001b[0;34m=\u001b[0m\u001b[0;34m{\u001b[0m\u001b[0;36m2\u001b[0m\u001b[0;34m,\u001b[0m\u001b[0;36m8\u001b[0m\u001b[0;34m,\u001b[0m\u001b[0;36m6\u001b[0m\u001b[0;34m}\u001b[0m\u001b[0;34m\u001b[0m\u001b[0;34m\u001b[0m\u001b[0m\n\u001b[0;32m----> 3\u001b[0;31m \u001b[0mprint\u001b[0m\u001b[0;34m(\u001b[0m\u001b[0ma\u001b[0m\u001b[0;34m+\u001b[0m\u001b[0mb\u001b[0m\u001b[0;34m)\u001b[0m\u001b[0;34m\u001b[0m\u001b[0;34m\u001b[0m\u001b[0m\n\u001b[0m",
      "\u001b[0;31mTypeError\u001b[0m: unsupported operand type(s) for +: 'set' and 'set'"
     ]
    }
   ],
   "source": [
    "a={4,5,6}\n",
    "b={2,8,6}\n",
    "print(a+b)"
   ]
  },
  {
   "cell_type": "markdown",
   "id": "d1176c44",
   "metadata": {},
   "source": [
    "### 10]What is the output?\n",
    "### d ={\"john\":40, \"peter\":45}\n",
    "### print(d[\"john\"])"
   ]
  },
  {
   "cell_type": "code",
   "execution_count": 32,
   "id": "8665d74b",
   "metadata": {},
   "outputs": [
    {
     "name": "stdout",
     "output_type": "stream",
     "text": [
      "40\n"
     ]
    }
   ],
   "source": [
    "d ={\"john\":40, \"peter\":45}\n",
    "print(d[\"john\"])"
   ]
  },
  {
   "cell_type": "markdown",
   "id": "7cebdcf3",
   "metadata": {},
   "source": [
    "### 11) What will be the output of the following Python code?\n",
    "### example = \"snow world\"\n",
    "### example[3] = 's'\n",
    "### print (example)"
   ]
  },
  {
   "cell_type": "code",
   "execution_count": 33,
   "id": "17dbbe3f",
   "metadata": {},
   "outputs": [
    {
     "ename": "TypeError",
     "evalue": "'str' object does not support item assignment",
     "output_type": "error",
     "traceback": [
      "\u001b[0;31m---------------------------------------------------------------------------\u001b[0m",
      "\u001b[0;31mTypeError\u001b[0m                                 Traceback (most recent call last)",
      "\u001b[0;32m<ipython-input-33-2f9a90ce8df1>\u001b[0m in \u001b[0;36m<module>\u001b[0;34m\u001b[0m\n\u001b[1;32m      1\u001b[0m \u001b[0mexample\u001b[0m \u001b[0;34m=\u001b[0m \u001b[0;34m\"snow world\"\u001b[0m\u001b[0;34m\u001b[0m\u001b[0;34m\u001b[0m\u001b[0m\n\u001b[0;32m----> 2\u001b[0;31m \u001b[0mexample\u001b[0m\u001b[0;34m[\u001b[0m\u001b[0;36m3\u001b[0m\u001b[0;34m]\u001b[0m \u001b[0;34m=\u001b[0m \u001b[0;34m's'\u001b[0m\u001b[0;34m\u001b[0m\u001b[0;34m\u001b[0m\u001b[0m\n\u001b[0m\u001b[1;32m      3\u001b[0m \u001b[0mprint\u001b[0m \u001b[0;34m(\u001b[0m\u001b[0mexample\u001b[0m\u001b[0;34m)\u001b[0m\u001b[0;34m\u001b[0m\u001b[0;34m\u001b[0m\u001b[0m\n",
      "\u001b[0;31mTypeError\u001b[0m: 'str' object does not support item assignment"
     ]
    }
   ],
   "source": [
    "example = \"snow world\"\n",
    "example[3] = 's'\n",
    "print (example)"
   ]
  },
  {
   "cell_type": "markdown",
   "id": "1334d4f6",
   "metadata": {},
   "source": [
    "#### This is because String is unmutable"
   ]
  },
  {
   "cell_type": "markdown",
   "id": "775c5fa9",
   "metadata": {},
   "source": [
    "### 12) What will be the output of the following Python code?\n",
    "### print(\"xyyzxyzxzxyy\".count('yy', 1))"
   ]
  },
  {
   "cell_type": "code",
   "execution_count": 37,
   "id": "f4b60d16",
   "metadata": {},
   "outputs": [
    {
     "name": "stdout",
     "output_type": "stream",
     "text": [
      "2\n"
     ]
    }
   ],
   "source": [
    "print(\"xyyzxyzxzxyy\".count('yy',1))"
   ]
  },
  {
   "cell_type": "markdown",
   "id": "a32355c9",
   "metadata": {},
   "source": [
    "### 13) What will be the output of the following Python code?\n",
    "### print(\"abcdef\".find(\"cd\"))"
   ]
  },
  {
   "cell_type": "code",
   "execution_count": 46,
   "id": "e30b7e18",
   "metadata": {},
   "outputs": [
    {
     "name": "stdout",
     "output_type": "stream",
     "text": [
      "2\n"
     ]
    }
   ],
   "source": [
    "print(\"abcdef\".find(\"cd\"))"
   ]
  },
  {
   "cell_type": "markdown",
   "id": "6e03ef8f",
   "metadata": {},
   "source": [
    "### 14) Suppose t = (1, 2, 4, 3), which of the following is incorrect?\n",
    "### a) print(t[3])\n",
    "### b) t[3] = 45\n",
    "### c) print(max(t))\n",
    "### d) print(len(t))"
   ]
  },
  {
   "cell_type": "code",
   "execution_count": 49,
   "id": "338cf88d",
   "metadata": {},
   "outputs": [
    {
     "ename": "SyntaxError",
     "evalue": "invalid character in identifier (<ipython-input-49-488b0837cbb0>, line 4)",
     "output_type": "error",
     "traceback": [
      "\u001b[0;36m  File \u001b[0;32m\"<ipython-input-49-488b0837cbb0>\"\u001b[0;36m, line \u001b[0;32m4\u001b[0m\n\u001b[0;31m    print(len(t))¶\u001b[0m\n\u001b[0m                 ^\u001b[0m\n\u001b[0;31mSyntaxError\u001b[0m\u001b[0;31m:\u001b[0m invalid character in identifier\n"
     ]
    }
   ],
   "source": [
    "print(t[3])\n",
    "t[3] = 45\n",
    "print(max(t))\n",
    "print(len(t))"
   ]
  },
  {
   "cell_type": "code",
   "execution_count": null,
   "id": "3aaec157",
   "metadata": {},
   "outputs": [],
   "source": []
  }
 ],
 "metadata": {
  "kernelspec": {
   "display_name": "Python 3",
   "language": "python",
   "name": "python3"
  },
  "language_info": {
   "codemirror_mode": {
    "name": "ipython",
    "version": 3
   },
   "file_extension": ".py",
   "mimetype": "text/x-python",
   "name": "python",
   "nbconvert_exporter": "python",
   "pygments_lexer": "ipython3",
   "version": "3.8.8"
  }
 },
 "nbformat": 4,
 "nbformat_minor": 5
}
